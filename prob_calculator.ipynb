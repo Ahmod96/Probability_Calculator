{
 "cells": [
  {
   "cell_type": "code",
   "execution_count": 1,
   "id": "a7032fae",
   "metadata": {},
   "outputs": [],
   "source": [
    "import random\n",
    "import copy\n",
    "\n",
    "class Hat():\n",
    "    def __init__(self, **args):\n",
    "        self.args = args\n",
    "        self.contents = []\n",
    "        for arg in args:\n",
    "            n_arg = 1\n",
    "            while n_arg <= args[arg]:\n",
    "                self.contents.append(arg)\n",
    "                n_arg += 1\n",
    "    def draw(self, n_draw):\n",
    "        if n_draw > len(self.contents):\n",
    "            return self.contents\n",
    "        else:\n",
    "            random_index = random.sample(range(0, len(self.contents)), n_draw)\n",
    "            withdraw_list = []\n",
    "            for value in random_index:\n",
    "                withdraw_list.append(self.contents[value])\n",
    "            for value in sorted(random_index, reverse = True):\n",
    "                del self.contents[value]\n",
    "        return withdraw_list\n",
    "    \n",
    "        \n",
    "def experiment(hat, num_balls_drawn, expected_balls, num_experiments):\n",
    "    \n",
    "    expected_balls_list = []\n",
    "    for ball in expected_balls:\n",
    "        ball_value = 1\n",
    "        while ball_value <= expected_balls[ball]:\n",
    "            expected_balls_list.append(ball)\n",
    "            ball_value += 1\n",
    "    \n",
    "    M = 0\n",
    "    for num in range(0, num_experiments):\n",
    "        hat_copy = copy.deepcopy(hat)\n",
    "        withdraw_list = hat_copy.draw(num_balls_drawn)\n",
    "        \n",
    "        count = 0\n",
    "        expected_balls_copy = copy.deepcopy(expected_balls_list)\n",
    "        for ball in withdraw_list:\n",
    "            if ball in expected_balls_copy:\n",
    "                count += 1\n",
    "                del expected_balls_copy[expected_balls_copy.index(ball)]\n",
    "                \n",
    "        if count == len(expected_balls_list):\n",
    "            M += 1\n",
    "    probability = M/num_experiments\n",
    "    return probability\n",
    "            "
   ]
  },
  {
   "cell_type": "code",
   "execution_count": 2,
   "id": "ed98f22c",
   "metadata": {},
   "outputs": [
    {
     "data": {
      "text/plain": [
       "0.377"
      ]
     },
     "execution_count": 2,
     "metadata": {},
     "output_type": "execute_result"
    }
   ],
   "source": [
    "hat = Hat(black=6, red=4, green=3)    \n",
    "probability = experiment(hat=hat, num_balls_drawn=5, expected_balls={\"red\":2,\"green\":1}, num_experiments=2000)\n",
    "probability       "
   ]
  },
  {
   "cell_type": "code",
   "execution_count": 3,
   "id": "8150605f",
   "metadata": {},
   "outputs": [
    {
     "data": {
      "text/plain": [
       "0.268"
      ]
     },
     "execution_count": 3,
     "metadata": {},
     "output_type": "execute_result"
    }
   ],
   "source": [
    "hat = Hat(blue=3,red=2,green=6)\n",
    "probability =experiment(hat=hat, expected_balls={\"blue\":2,\"green\":1}, num_balls_drawn=4, num_experiments=1000)\n",
    "probability"
   ]
  },
  {
   "cell_type": "code",
   "execution_count": 4,
   "id": "f11c92d7",
   "metadata": {
    "scrolled": true
   },
   "outputs": [
    {
     "data": {
      "text/plain": [
       "1.0"
      ]
     },
     "execution_count": 4,
     "metadata": {},
     "output_type": "execute_result"
    }
   ],
   "source": [
    "hat = Hat(yellow=5,red=1,green=3,blue=9,test=1)\n",
    "probability = experiment(hat=hat, expected_balls={\"yellow\":2,\"blue\":3,\"test\":1}, num_balls_drawn=20, num_experiments=100)\n",
    "probability"
   ]
  },
  {
   "cell_type": "code",
   "execution_count": null,
   "id": "c6063394",
   "metadata": {},
   "outputs": [],
   "source": [
    "https://replit.com/@Ahmod/boilerplate-probability-calculator-5#prob_calculator.py"
   ]
  }
 ],
 "metadata": {
  "kernelspec": {
   "display_name": "Python 3 (ipykernel)",
   "language": "python",
   "name": "python3"
  },
  "language_info": {
   "codemirror_mode": {
    "name": "ipython",
    "version": 3
   },
   "file_extension": ".py",
   "mimetype": "text/x-python",
   "name": "python",
   "nbconvert_exporter": "python",
   "pygments_lexer": "ipython3",
   "version": "3.9.12"
  }
 },
 "nbformat": 4,
 "nbformat_minor": 5
}
